{
 "metadata": {
  "name": "",
  "signature": "sha256:a88cff31f86dc754cc370526aa6c7ce92fd0a321be7dc138143f56aa01543aef"
 },
 "nbformat": 3,
 "nbformat_minor": 0,
 "worksheets": [
  {
   "cells": [
    {
     "cell_type": "markdown",
     "metadata": {},
     "source": [
      "Introduction to Jupyter Notebooks\n",
      "================================\n",
      "\n",
      "Jupyter (Julia, Python, R)  notebooks provide an interactive, browser based, way of developing and publishing code. They allow for documentnation formatted using [Markdown](link to markdown), to be mixed with code using either Python, Julia, or R.\n",
      "\n",
      "## Markdown\n",
      "\n",
      "This cell is a formatted using Mardkown. Markdown is:\n",
      "\n",
      "* simple\n",
      "* intuitive\n",
      "* clean\n",
      "\n",
      "    \n",
      "See the [markdown cells](http://jupyter-notebook.readthedocs.io/en/latest/examples/Notebook/Working%20With%20Markdown%20Cells.html) for more details    "
     ]
    },
    {
     "cell_type": "code",
     "collapsed": false,
     "input": [
      "# this is a code cell, press enter to edit the cell\n",
      "# press cntrl + enter to execute the cell\n",
      "\n",
      "x = \"hello world\"\n",
      "print(x)"
     ],
     "language": "python",
     "metadata": {},
     "outputs": [
      {
       "output_type": "stream",
       "stream": "stdout",
       "text": [
        "hello world\n"
       ]
      }
     ],
     "prompt_number": 8
    },
    {
     "cell_type": "code",
     "collapsed": false,
     "input": [
      "[x**2 for x in range(6)]"
     ],
     "language": "python",
     "metadata": {},
     "outputs": [
      {
       "metadata": {},
       "output_type": "pyout",
       "prompt_number": 7,
       "text": [
        "[0, 1, 4, 9, 16, 25]"
       ]
      }
     ],
     "prompt_number": 7
    },
    {
     "cell_type": "markdown",
     "metadata": {},
     "source": [
      "## Keyboard shortcuts\n",
      "\n",
      "Jupyter notebooks have two modes (similar to VI), **command mode** and **edit mode**.  Pressing escape enters command mode, pressing enter enters edit mode.  Press escape and 'h' brings up a list of keyboard shortcuts.\n",
      "\n",
      "## Autocomplete + documentation\n",
      "\n",
      "Pressing tab will give a drop-down automcompletion.  Pressing cntrl + tab bring ups the documentation. \n"
     ]
    },
    {
     "cell_type": "code",
     "collapsed": false,
     "input": [
      "# create a list\n",
      "l = [1,2,3]\n",
      "\n",
      "\n",
      "# type l. and press tab\n",
      "\n",
      "# put the cursor inside (count) and press cntrl + tab\n",
      "l.count(2)"
     ],
     "language": "python",
     "metadata": {},
     "outputs": [
      {
       "metadata": {},
       "output_type": "pyout",
       "prompt_number": 13,
       "text": [
        "1"
       ]
      }
     ],
     "prompt_number": 13
    },
    {
     "cell_type": "code",
     "collapsed": false,
     "input": [],
     "language": "python",
     "metadata": {},
     "outputs": []
    }
   ],
   "metadata": {}
  }
 ]
}